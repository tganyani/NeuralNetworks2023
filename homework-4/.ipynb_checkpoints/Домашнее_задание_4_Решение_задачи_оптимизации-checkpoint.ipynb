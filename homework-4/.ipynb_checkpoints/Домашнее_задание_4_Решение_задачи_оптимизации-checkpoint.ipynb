{
 "cells": [
  {
   "cell_type": "markdown",
   "metadata": {},
   "source": [
    "Решите простую задачу безусловной оптимизации в двумерном пространстве:  \n",
    "$$f(\\boldsymbol x) = -8x_1 - 16x_2 + x_1^2 + 4x_2^2$$\n",
    "используя два метода:\n",
    " - аналитически (функция квадратичная, выпуклая)\n",
    " - методом градиентного спуска, используя один из методов оптимизации torch.optim"
   ]
  },
  {
   "cell_type": "markdown",
   "metadata": {},
   "source": [
    "$\n",
    "f(x,y) = -8x_1 -16x_2 +x_1^2 + 4x_2^2\n",
    "$"
   ]
  },
  {
   "cell_type": "markdown",
   "metadata": {},
   "source": [
    "$\n",
    "f_{x_1} = -8 + 2x_1 \\\\ \n",
    "$ \n",
    "\n",
    "$\n",
    "f_{x_2} = -16 + 8x_2 \\\\\n",
    "x_1 = 4 \\space, x_2 = 2\n",
    "$"
   ]
  },
  {
   "cell_type": "code",
   "execution_count": 9,
   "metadata": {},
   "outputs": [],
   "source": [
    "import torch\n",
    "import torch.nn as nn\n",
    "from torch import tensor as t"
   ]
  },
  {
   "cell_type": "code",
   "execution_count": 15,
   "metadata": {},
   "outputs": [
    {
     "name": "stdout",
     "output_type": "stream",
     "text": [
      "iteration_ 5, x = 4.0,y = 2.0006399154663086, f(x,y)= -31.99995994567871, grad_x = tensor([0.]),, grad_y = tensor([0.])\n",
      "iteration_ 10, x = 4.0,y = 2.000000238418579, f(x,y)= -32.0, grad_x = tensor([0.]),, grad_y = tensor([0.])\n",
      "iteration_ 15, x = 4.0,y = 2.0, f(x,y)= -32.0, grad_x = tensor([0.]),, grad_y = tensor([0.])\n",
      "iteration_ 20, x = 4.0,y = 2.0, f(x,y)= -32.0, grad_x = tensor([0.]),, grad_y = tensor([0.])\n",
      "iteration_ 25, x = 4.0,y = 2.0, f(x,y)= -32.0, grad_x = tensor([0.]),, grad_y = tensor([0.])\n",
      "iteration_ 30, x = 4.0,y = 2.0, f(x,y)= -32.0, grad_x = tensor([0.]),, grad_y = tensor([0.])\n",
      "iteration_ 35, x = 4.0,y = 2.0, f(x,y)= -32.0, grad_x = tensor([0.]),, grad_y = tensor([0.])\n",
      "iteration_ 40, x = 4.0,y = 2.0, f(x,y)= -32.0, grad_x = tensor([0.]),, grad_y = tensor([0.])\n",
      "iteration_ 45, x = 4.0,y = 2.0, f(x,y)= -32.0, grad_x = tensor([0.]),, grad_y = tensor([0.])\n",
      "iteration_ 50, x = 4.0,y = 2.0, f(x,y)= -32.0, grad_x = tensor([0.]),, grad_y = tensor([0.])\n",
      "iteration_ 55, x = 4.0,y = 2.0, f(x,y)= -32.0, grad_x = tensor([0.]),, grad_y = tensor([0.])\n",
      "iteration_ 60, x = 4.0,y = 2.0, f(x,y)= -32.0, grad_x = tensor([0.]),, grad_y = tensor([0.])\n",
      "iteration_ 65, x = 4.0,y = 2.0, f(x,y)= -32.0, grad_x = tensor([0.]),, grad_y = tensor([0.])\n",
      "iteration_ 70, x = 4.0,y = 2.0, f(x,y)= -32.0, grad_x = tensor([0.]),, grad_y = tensor([0.])\n",
      "iteration_ 75, x = 4.0,y = 2.0, f(x,y)= -32.0, grad_x = tensor([0.]),, grad_y = tensor([0.])\n",
      "iteration_ 80, x = 4.0,y = 2.0, f(x,y)= -32.0, grad_x = tensor([0.]),, grad_y = tensor([0.])\n",
      "iteration_ 85, x = 4.0,y = 2.0, f(x,y)= -32.0, grad_x = tensor([0.]),, grad_y = tensor([0.])\n",
      "iteration_ 90, x = 4.0,y = 2.0, f(x,y)= -32.0, grad_x = tensor([0.]),, grad_y = tensor([0.])\n",
      "iteration_ 95, x = 4.0,y = 2.0, f(x,y)= -32.0, grad_x = tensor([0.]),, grad_y = tensor([0.])\n",
      "iteration_ 100, x = 4.0,y = 2.0, f(x,y)= -32.0, grad_x = tensor([0.]),, grad_y = tensor([0.])\n"
     ]
    }
   ],
   "source": [
    "f = lambda x,y:-8*x - 16*y + x**2 + 4*y**2\n",
    "\n",
    "x = t([4], dtype=torch.float32, requires_grad=True)\n",
    "y = t([4], dtype=torch.float32, requires_grad=True)\n",
    "\n",
    "optimizer = torch.optim.SGD([x,y], lr=0.1)\n",
    "\n",
    "\n",
    "for i in range(100):\n",
    "    Y = f(x,y)\n",
    "    optimizer.zero_grad()\n",
    "    Y.backward()\n",
    "    optimizer.step()\n",
    "    if (i+1) % 5 == 0:\n",
    "        print(f'iteration_ {i+1}, x = {x[0]},y = {y[0]}, f(x,y)= {Y[0]}, grad_x = {x.grad},, grad_y = {x.grad}')\n",
    "    #     with torch.no_grad():\n",
    "    #         x -= 0.1 * x.grad\n",
    "    #x.grad.zero_()\n",
    "    #print(f'grad {x.grad}')"
   ]
  },
  {
   "cell_type": "code",
   "execution_count": null,
   "metadata": {},
   "outputs": [],
   "source": []
  }
 ],
 "metadata": {
  "kernelspec": {
   "display_name": "Python 3 (ipykernel)",
   "language": "python",
   "name": "python3"
  },
  "language_info": {
   "codemirror_mode": {
    "name": "ipython",
    "version": 3
   },
   "file_extension": ".py",
   "mimetype": "text/x-python",
   "name": "python",
   "nbconvert_exporter": "python",
   "pygments_lexer": "ipython3",
   "version": "3.11.3"
  }
 },
 "nbformat": 4,
 "nbformat_minor": 2
}
