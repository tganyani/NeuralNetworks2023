{
 "cells": [
  {
   "cell_type": "markdown",
   "metadata": {
    "datalore": {
     "hide_input_from_viewers": false,
     "hide_output_from_viewers": false,
     "node_id": "VR8RoktPBGyKIiESbY2gbr",
     "report_properties": {
      "rowId": "6bbuWoJVY55RPvDY7n9fqP"
     },
     "type": "MD"
    }
   },
   "source": [
    "## Свёрточные нейронные сети и аугментация данных\n",
    "В этом задании необходимо обучить конволюционную нейросеть типа сети LeNet5, предложенную Яном Лекуном в 1998 году, для распознавания рукописных цифр из базы данных MNIST.  \n",
    "Код ниже предлагает базовый вариант обучения, который даёт около 98-99% точности на тестовой выборке.  \n",
    "Необходимо чуть-чуть улучшить данный код, введя **аугментацию** данных, т.е. расширить обучающий датасет за счёт дополнительных искажений исходных картинок:  \n",
    " - небольших случайных поворотов (rotate), \n",
    " - дрожания (jitter), \n",
    " - кроппинга (crop) \n",
    " - и др.   \n",
    "Для трансформации картинок используйте методы библиотеки `torchvision.transforms`, про которые можно прочитать [здесь](https://pytorch.org/vision/stable/transforms.html)  \n",
    "Целью задания является - получить точность на тестовой выборке 99.5%."
   ]
  },
  {
   "cell_type": "code",
   "execution_count": null,
   "metadata": {
    "datalore": {
     "hide_input_from_viewers": false,
     "hide_output_from_viewers": false,
     "node_id": "ycIuzYe6PcQsrKw4PCytyM",
     "report_properties": {
      "rowId": "AVAbVPZNhOBTyB5hAnmbhE"
     },
     "type": "CODE"
    }
   },
   "outputs": [],
   "source": [
    "import torch\n",
    "import torch.nn as nn\n",
    "import torchvision\n",
    "import torchvision.transforms as transforms\n",
    "from torchvision.transforms import  v2\n",
    "from matplotlib import pyplot  as plt\n",
    "import numpy as np\n",
    "\n",
    "# Device configuration\n",
    "device = torch.device('cuda' if torch.cuda.is_available() else 'cpu')\n",
    "print(device)\n",
    "\n",
    "# Hyper-parameters \n",
    "input_size = 28*28\n",
    "hidden_size = 500\n",
    "num_classes = 10\n",
    "num_epochs = 5\n",
    "batch_size = 100\n",
    "learning_rate = 0.001"
   ]
  },
  {
   "cell_type": "markdown",
   "metadata": {
    "datalore": {
     "hide_input_from_viewers": false,
     "hide_output_from_viewers": false,
     "node_id": "KAmgirdzn2rE8UNJ8RQiIt",
     "report_properties": {
      "rowId": "WguhJ8R9X1oOCVcGnBNWBa"
     },
     "type": "MD"
    }
   },
   "source": [
    "# 1 Этап - подготовка данных!"
   ]
  },
  {
   "cell_type": "code",
   "execution_count": null,
   "metadata": {
    "datalore": {
     "hide_input_from_viewers": false,
     "hide_output_from_viewers": false,
     "node_id": "zDms8yPD9OVxHgTtitGurC",
     "report_properties": {
      "rowId": "jB8pEdhtkCsLR3yog21DLh"
     },
     "type": "CODE"
    }
   },
   "outputs": [],
   "source": [
    "# MNIST dataset \n",
    "transform = v2.Compose([\n",
    "    v2.ToTensor(),\n",
    "    # v2.Resize(size=(29,29)),\n",
    "    # v2.RandomResizedCrop(size=(28,28),scale=(0.999, 1.0),ratio=(1, 1)),\n",
    "    # v2.RandomHorizontalFlip(p=0.1),\n",
    "     v2.RandomAffine(degrees=2),\n",
    "    v2.Normalize(mean=[0.485],std=[0.229]),\n",
    "    v2.RandomRotation(degrees=10),\n",
    "    # v2.ColorJitter(brightness=(0.875, 1.125)),\n",
    "])\n",
    "train_dataset = torchvision.datasets.MNIST(root='../../data', \n",
    "                                           train=True, \n",
    "                                           transform=transform,  \n",
    "                                           download=True)\n",
    "\n",
    "test_dataset = torchvision.datasets.MNIST(root='../../data', \n",
    "                                          train=False, \n",
    "                                          transform= v2.Compose([\n",
    "                                              transforms.ToTensor(),\n",
    "                                              v2.Normalize(mean=[0.485],std=[0.229]),\n",
    "                                          ]))\n",
    "\n",
    "# Data loader\n",
    "train_loader = torch.utils.data.DataLoader(dataset=train_dataset, \n",
    "                                           batch_size=batch_size, \n",
    "                                           shuffle=True)\n",
    "\n",
    "test_loader = torch.utils.data.DataLoader(dataset=test_dataset, \n",
    "                                          batch_size=batch_size, \n",
    "                                          shuffle=False)"
   ]
  },
  {
   "cell_type": "markdown",
   "metadata": {
    "datalore": {
     "hide_input_from_viewers": false,
     "hide_output_from_viewers": false,
     "node_id": "YqsZnSpHxTVs6qDl12H26u",
     "report_properties": {
      "rowId": "TfsvOFaiwBtxzNsmyUmWOH"
     },
     "type": "MD"
    }
   },
   "source": [
    "# 2 Этап - Нейронная сеть!"
   ]
  },
  {
   "cell_type": "markdown",
   "metadata": {
    "datalore": {
     "hide_input_from_viewers": false,
     "hide_output_from_viewers": false,
     "node_id": "s7TysUu7qepioUUuh76XAo",
     "report_properties": {
      "rowId": "x2X0NuqXSEl5KksYDCeoSo"
     },
     "type": "MD"
    }
   },
   "source": [
    "<img src='Lenet5.png'>"
   ]
  },
  {
   "cell_type": "code",
   "execution_count": null,
   "metadata": {
    "datalore": {
     "hide_input_from_viewers": false,
     "hide_output_from_viewers": false,
     "node_id": "tCb6X6vdJQkxupPcXyWmDV",
     "report_properties": {
      "rowId": "G71NCx61ksFXeDxnG4CseD"
     },
     "type": "CODE"
    }
   },
   "outputs": [],
   "source": [
    "# Fully connected neural network with one hidden layer\n",
    "class Lenet5(nn.Module):\n",
    "    def __init__(self, hidden_size1=500, num_classes=10):\n",
    "        super().__init__()\n",
    "        self.conv1 = nn.Conv2d(in_channels=1, out_channels=20, kernel_size=5, stride=1, padding=0)\n",
    "        self.batchnorm1 = nn.BatchNorm2d(20)\n",
    "        self.maxpool = nn.MaxPool2d(kernel_size=2, stride=2)\n",
    "        self.conv2 = nn.Conv2d(in_channels=20, out_channels=50, kernel_size=5, stride=1, padding=0)\n",
    "        self.batchnorm2 = nn.BatchNorm2d(50)\n",
    "        self.relu = nn.ReLU()\n",
    "        self.fc1 = nn.Linear(50 * 4 * 4, hidden_size1) # fully connected\n",
    "        self.fc2 = nn.Linear(hidden_size1, num_classes)  \n",
    "    \n",
    "    def forward(self, x): # вход размера 1 x 28 x 28\n",
    "        out = self.conv1(x) # на выходе размер 20 x 24 x 24\n",
    "        out = self.batchnorm1(out)\n",
    "        out = self.maxpool(out) # на выходе размер 20 x 12 x 12\n",
    "        out = self.relu(out)\n",
    "        out = self.conv2(out)  # на выходе размер 50 x 8 x 8\n",
    "        out = self.batchnorm2(out)\n",
    "        out = self.maxpool(out) # на выходе размер 50 x 4 x 4\n",
    "        out = self.relu(out)\n",
    "        out = out.reshape(-1, 50 * 4 * 4) # на выходе размер 800\n",
    "        out = self.fc1(out) # на выходе размер 500\n",
    "        out = self.relu(out)\n",
    "        out = self.fc2(out) # на выходе размер 10\n",
    "        \n",
    "        return out\n",
    "\n",
    "model = Lenet5(hidden_size1=500, num_classes=10).to(device)"
   ]
  },
  {
   "cell_type": "markdown",
   "metadata": {
    "datalore": {
     "hide_input_from_viewers": false,
     "hide_output_from_viewers": false,
     "node_id": "b65ZsvRiasKalNmimAiL6p",
     "report_properties": {
      "rowId": "kuaGMyf1745pGlu16BdtGr"
     },
     "type": "MD"
    }
   },
   "source": [
    "# 3 этап - Loss-функция и оптимизатор"
   ]
  },
  {
   "cell_type": "code",
   "execution_count": null,
   "metadata": {
    "datalore": {
     "hide_input_from_viewers": false,
     "hide_output_from_viewers": false,
     "node_id": "wmvemcQd8uJb5FcKpYiRrO",
     "report_properties": {
      "rowId": "Ut5F8ja0DOVZ7UyFKbgipu"
     },
     "type": "CODE"
    }
   },
   "outputs": [],
   "source": [
    "# Loss and optimizer\n",
    "criterion = nn.CrossEntropyLoss()\n",
    "optimizer = torch.optim.Adam(model.parameters(), lr=learning_rate)"
   ]
  },
  {
   "cell_type": "code",
   "execution_count": null,
   "metadata": {
    "datalore": {
     "hide_input_from_viewers": false,
     "hide_output_from_viewers": false,
     "node_id": "ghOGyNU3tddFl5kUat0dKe",
     "report_properties": {
      "rowId": "JCsNssEJsI2VNkBTFaLHQO"
     },
     "type": "CODE"
    }
   },
   "outputs": [],
   "source": [
    "# Train the model\n",
    "total_step = len(train_loader)\n",
    "for epoch in range(num_epochs):\n",
    "    for i, (images, labels) in enumerate(train_loader):  \n",
    "        # Move tensors to the configured device\n",
    "        #images = images.reshape(-1, 28*28).to(device)\n",
    "        images = images.to(device)\n",
    "        labels = labels.to(device)\n",
    "        \n",
    "        # Forward pass\n",
    "        outputs = model(images)\n",
    "        loss = criterion(outputs, labels)\n",
    "        \n",
    "        # Backward and optimize\n",
    "        optimizer.zero_grad()\n",
    "        loss.backward()\n",
    "        optimizer.step()\n",
    "        \n",
    "        if (i+1) % 100 == 0:\n",
    "            print ('Epoch [{}/{}], Step [{}/{}], Loss: {:.4f}' \n",
    "                   .format(epoch+1, num_epochs, i+1, total_step, loss.item()))\n",
    "    # Test the model\n",
    "    # In test phase, we don't need to compute gradients (for memory efficiency)\n",
    "    with torch.no_grad():\n",
    "        correct = 0\n",
    "        total = 0\n",
    "        for images, labels in test_loader:\n",
    "            #images = images.reshape(-1, 28*28).to(device)\n",
    "            images = images.to(device)\n",
    "            labels = labels.to(device)\n",
    "            outputs = model(images)\n",
    "            _, predicted = torch.max(outputs.data, 1)\n",
    "            total += labels.size(0)\n",
    "            correct += (predicted == labels).sum().item()\n",
    "\n",
    "        print('Accuracy of the network on the 10000 test images: {} %'.format(100 * correct / total))\n",
    "\n",
    "    # Save the model checkpoint\n",
    "    torch.save(model.state_dict(), 'model.ckpt')"
   ]
  },
  {
   "cell_type": "code",
   "execution_count": null,
   "metadata": {
    "datalore": {
     "hide_input_from_viewers": true,
     "hide_output_from_viewers": true,
     "node_id": "QHMadd0OFjAfBQ6ZasNdzn",
     "type": "CODE"
    }
   },
   "outputs": [],
   "source": [
    "# !pip install gradio\n",
    "import gradio as gr"
   ]
  },
  {
   "cell_type": "code",
   "execution_count": null,
   "metadata": {
    "datalore": {
     "hide_input_from_viewers": true,
     "hide_output_from_viewers": true,
     "node_id": "jnYABA4FIM9GXMhRILHXco",
     "type": "CODE"
    }
   },
   "outputs": [],
   "source": [
    "def sepia (input_img):\n",
    "    # predict = torch.round(model(torch.tensor(input_img.reshape(-1, 64 * 64 * 3),dtype=torch.float32)/ 255.)[0,0])\n",
    "    # print(torch.tensor(input_img.reshape(-1, 64 * 64 * 3),dtype=torch.float64))\n",
    "    # if predict==1:\n",
    "    #     return input_img,\"это кошка\"\n",
    "    # else:\n",
    "    #     return input_img,\"это вообще не кот\"\n",
    "    print(input_img)\n",
    "    return  input_img, \"This is an example\"\n",
    "    \n",
    "\n",
    "demo = gr.Interface(sepia,inputs=gr.Image(), outputs=[gr.Image(),\"text\"])\n",
    "demo.launch()"
   ]
  }
 ],
 "metadata": {
  "datalore": {
   "base_environment": "default",
   "computation_mode": "JUPYTER",
   "package_manager": "pip",
   "packages": [],
   "report_row_ids": [
    "6bbuWoJVY55RPvDY7n9fqP",
    "AVAbVPZNhOBTyB5hAnmbhE",
    "WguhJ8R9X1oOCVcGnBNWBa",
    "jB8pEdhtkCsLR3yog21DLh",
    "TfsvOFaiwBtxzNsmyUmWOH",
    "x2X0NuqXSEl5KksYDCeoSo",
    "G71NCx61ksFXeDxnG4CseD",
    "kuaGMyf1745pGlu16BdtGr",
    "Ut5F8ja0DOVZ7UyFKbgipu",
    "MQTJ48t7OQnkPH97pyXXly",
    "JCsNssEJsI2VNkBTFaLHQO"
   ],
   "version": 3
  },
  "kernelspec": {
   "display_name": "Python 3 (ipykernel)",
   "language": "python",
   "name": "python3"
  },
  "language_info": {
   "codemirror_mode": {
    "name": "ipython",
    "version": 3
   },
   "file_extension": ".py",
   "mimetype": "text/x-python",
   "name": "python",
   "nbconvert_exporter": "python",
   "pygments_lexer": "ipython3",
   "version": "3.11.3"
  }
 },
 "nbformat": 4,
 "nbformat_minor": 4
}
