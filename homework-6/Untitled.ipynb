{
 "cells": [
  {
   "cell_type": "code",
   "execution_count": 45,
   "id": "273f6a83",
   "metadata": {},
   "outputs": [
    {
     "name": "stdout",
     "output_type": "stream",
     "text": [
      "(209, 64, 64, 3) (1, 209) (50, 64, 64, 3) (1, 50)\n",
      "torch.Size([209, 12288]) torch.Size([209, 1]) torch.Size([50, 12288]) torch.Size([50, 1])\n"
     ]
    }
   ],
   "source": [
    "import torch\n",
    "from torch.utils.data import TensorDataset, DataLoader\n",
    "from dnn_app_utils_v3 import load_data\n",
    "import torch.nn as nn\n",
    "\n",
    "train_x_orig, train_y, test_x_orig, test_y, classes = load_data()\n",
    "print(train_x_orig.shape, train_y.shape, test_x_orig.shape, test_y.shape)\n",
    "\n",
    "train_x = torch.from_numpy(train_x_orig.reshape(-1, 64 * 64 * 3)).type(torch.float32) / 255.\n",
    "test_x = torch.from_numpy(test_x_orig.reshape(-1, 64 * 64 * 3)).type(torch.float32) / 255.\n",
    "train_y = torch.from_numpy(train_y.reshape(-1, 1)).type(torch.float32)\n",
    "test_y = torch.from_numpy(test_y.reshape(-1, 1)).type(torch.float32)\n",
    "print(train_x.shape, train_y.shape, test_x.shape, test_y.shape)"
   ]
  },
  {
   "cell_type": "code",
   "execution_count": 47,
   "id": "59e3f000-c4ee-4362-9259-218562950bad",
   "metadata": {
    "tags": []
   },
   "outputs": [],
   "source": [
    "%config Completer.use_jedi = False"
   ]
  },
  {
   "cell_type": "code",
   "execution_count": 33,
   "id": "3cd09c30",
   "metadata": {},
   "outputs": [],
   "source": [
    "train_dataset = TensorDataset(train_x, train_y)\n",
    "test_dataset = TensorDataset(test_x, test_y)\n",
    "\n",
    "train_loader = DataLoader(train_dataset, batch_size=10, shuffle=True)\n",
    "test_loader = DataLoader(test_dataset, batch_size=50, shuffle=False)"
   ]
  },
  {
   "cell_type": "code",
   "execution_count": 28,
   "id": "2e8c1da3",
   "metadata": {},
   "outputs": [],
   "source": [
    "criterion = nn.BCELoss()\n",
    "learning_rate = 0.0075"
   ]
  },
  {
   "cell_type": "code",
   "execution_count": 41,
   "id": "e40c1aed",
   "metadata": {},
   "outputs": [
    {
     "data": {
      "text/plain": [
       "Sequential(\n",
       "  (0): Linear(in_features=12288, out_features=20, bias=True)\n",
       "  (1): ReLU()\n",
       "  (2): Linear(in_features=20, out_features=10, bias=True)\n",
       "  (3): ReLU()\n",
       "  (4): Linear(in_features=10, out_features=5, bias=True)\n",
       "  (5): ReLU()\n",
       "  (6): Linear(in_features=5, out_features=1, bias=True)\n",
       "  (7): Sigmoid()\n",
       ")"
      ]
     },
     "execution_count": 41,
     "metadata": {},
     "output_type": "execute_result"
    }
   ],
   "source": [
    "n_x = 12288 \n",
    "n_h1 = 20\n",
    "n_h2 = 10\n",
    "n_h3 = 5\n",
    "n_y = 1\n",
    "model = nn.Sequential(nn.Linear(n_x, n_h1), nn.ReLU(), nn.Linear(n_h1, n_h2),nn.ReLU(),nn.Linear(n_h2, n_h3), nn.ReLU(), nn.Linear(n_h3, n_y),nn.Sigmoid())\n",
    "model"
   ]
  },
  {
   "cell_type": "code",
   "execution_count": 42,
   "id": "a945486a",
   "metadata": {},
   "outputs": [],
   "source": [
    "optimizer = torch.optim.SGD(model.parameters(), lr=learning_rate)"
   ]
  },
  {
   "cell_type": "code",
   "execution_count": 43,
   "id": "ba27e3a3",
   "metadata": {},
   "outputs": [],
   "source": [
    "n_epoch = 1000\n",
    "for epoch in range(n_epoch):\n",
    "    for x, y in train_loader:\n",
    "        out = model(x)\n",
    "        loss = criterion(out,y)\n",
    "        optimizer.zero_grad()\n",
    "        loss.backward()\n",
    "        optimizer.step()\n",
    "        y_hat = torch.round(out)\n",
    "        # print(f\"ephoch {epoch+1} cost {loss.item()} accuracy {torch.eq(y_hat, y).sum()*100/y.size()[0]} %\")"
   ]
  },
  {
   "cell_type": "code",
   "execution_count": 44,
   "id": "aa313d06",
   "metadata": {},
   "outputs": [
    {
     "name": "stdout",
     "output_type": "stream",
     "text": [
      "accuracy 72.0 %\n"
     ]
    }
   ],
   "source": [
    "with torch.no_grad():\n",
    "    for x_test , y_test in test_loader:\n",
    "        y_pred = model(x_test)\n",
    "        y_hat2 = torch.round(y_pred)\n",
    "        print(f\"accuracy {torch.eq(y_hat2, y_test).sum()*100/y_test.size()[0]} %\")"
   ]
  },
  {
   "cell_type": "code",
   "execution_count": 48,
   "id": "09046c63",
   "metadata": {},
   "outputs": [],
   "source": [
    "import gradio as gr\n",
    "import numpy as np"
   ]
  },
  {
   "cell_type": "code",
   "execution_count": 49,
   "id": "9921c7fa",
   "metadata": {},
   "outputs": [
    {
     "name": "stdout",
     "output_type": "stream",
     "text": [
      "Running on local URL:  http://127.0.0.1:7860\n",
      "\n",
      "To create a public link, set `share=True` in `launch()`.\n"
     ]
    },
    {
     "data": {
      "text/html": [
       "<div><iframe src=\"http://127.0.0.1:7860/\" width=\"100%\" height=\"500\" allow=\"autoplay; camera; microphone; clipboard-read; clipboard-write;\" frameborder=\"0\" allowfullscreen></iframe></div>"
      ],
      "text/plain": [
       "<IPython.core.display.HTML object>"
      ]
     },
     "metadata": {},
     "output_type": "display_data"
    },
    {
     "data": {
      "text/plain": []
     },
     "execution_count": 49,
     "metadata": {},
     "output_type": "execute_result"
    },
    {
     "name": "stdout",
     "output_type": "stream",
     "text": [
      "tensor([[255., 255., 255.,  ..., 159., 183., 177.]], dtype=torch.float64)\n",
      "tensor([[232., 200., 153.,  ..., 232., 199., 125.]], dtype=torch.float64)\n",
      "tensor([[255., 255., 255.,  ..., 255., 255., 255.]], dtype=torch.float64)\n",
      "tensor([[255., 255., 255.,  ..., 255., 255., 255.]], dtype=torch.float64)\n"
     ]
    }
   ],
   "source": [
    "def sepia (input_img):\n",
    "    predict = torch.round(model(torch.tensor(input_img.reshape(-1, 64 * 64 * 3),dtype=torch.float32)/ 255.)[0,0])\n",
    "    print(torch.tensor(input_img.reshape(-1, 64 * 64 * 3),dtype=torch.float64))\n",
    "    if predict==1:\n",
    "        return input_img,\"Its a cat\"\n",
    "    else:\n",
    "        return input_img,\"Its not a cat\"\n",
    "    # sepia_img = input_img.dot(sepia_filter.T)\n",
    "    # sepia_img /= sepia_img.max()\n",
    "    # return sepia_img\n",
    "\n",
    "demo = gr.Interface(sepia,inputs=gr.Image(shape=(64, 64)), outputs=[gr.Image(shape=(64, 64)),\"text\"])\n",
    "demo.launch()"
   ]
  },
  {
   "cell_type": "code",
   "execution_count": null,
   "id": "de628ab5-890b-451d-a705-fd6a44071448",
   "metadata": {},
   "outputs": [],
   "source": []
  }
 ],
 "metadata": {
  "kernelspec": {
   "display_name": "Python 3 (ipykernel)",
   "language": "python",
   "name": "python3"
  },
  "language_info": {
   "codemirror_mode": {
    "name": "ipython",
    "version": 3
   },
   "file_extension": ".py",
   "mimetype": "text/x-python",
   "name": "python",
   "nbconvert_exporter": "python",
   "pygments_lexer": "ipython3",
   "version": "3.11.3"
  },
  "toc-showtags": false
 },
 "nbformat": 4,
 "nbformat_minor": 5
}
